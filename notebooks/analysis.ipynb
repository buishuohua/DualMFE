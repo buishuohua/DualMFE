{
 "cells": [
  {
   "cell_type": "code",
   "execution_count": 2,
   "metadata": {},
   "outputs": [],
   "source": [
    "import pandas as pd\n",
    "import numpy as np\n",
    "import matplotlib.pyplot as plt\n",
    "import statsmodels.api as sm\n",
    "import os\n",
    "import sys\n",
    "import warnings\n",
    "\n",
    "warnings.filterwarnings(\"ignore\")"
   ]
  },
  {
   "cell_type": "code",
   "execution_count": 3,
   "metadata": {},
   "outputs": [],
   "source": [
    "pwd = os.getcwd()\n",
    "proj_path = os.path.dirname(pwd)\n",
    "raw_data_path = os.path.join(proj_path, \"data\", \"raw\")\n",
    "sys.path.append(raw_data_path)\n",
    "train_data_path = os.path.join(raw_data_path, \"train.parquet\")\n",
    "test_data_path = os.path.join(raw_data_path, \"test.parquet\")"
   ]
  },
  {
   "cell_type": "code",
   "execution_count": 4,
   "metadata": {},
   "outputs": [
    {
     "name": "stdout",
     "output_type": "stream",
     "text": [
      "525887\n",
      "538150\n"
     ]
    }
   ],
   "source": [
    "data_train = pd.read_parquet(train_data_path)\n",
    "data_test = pd.read_parquet(test_data_path)\n",
    "print(len(data_train))\n",
    "print(len(data_test))"
   ]
  },
  {
   "cell_type": "code",
   "execution_count": 5,
   "metadata": {},
   "outputs": [
    {
     "name": "stdout",
     "output_type": "stream",
     "text": [
      "             bid_qty        ask_qty        buy_qty       sell_qty  \\\n",
      "count  525887.000000  525887.000000  525887.000000  525887.000000   \n",
      "mean        9.968003      10.174169     131.726678     132.673944   \n",
      "std        15.645741      15.889582     307.267251     309.803040   \n",
      "min         0.001000       0.001000       0.000000       0.000000   \n",
      "25%         2.634000       2.678000      26.407000      27.021000   \n",
      "50%         6.415000       6.538000      57.015000      58.047000   \n",
      "75%        13.085000      13.330000     127.639000     129.110000   \n",
      "max      1114.932000    1352.965000   17614.400000   17686.234000   \n",
      "\n",
      "              volume             X1             X2             X3  \\\n",
      "count  525887.000000  525887.000000  525887.000000  525887.000000   \n",
      "mean      264.400622      -0.006026      -0.000243      -0.000353   \n",
      "std       588.618746       0.538340       0.613746       0.771744   \n",
      "min         0.000000      -2.787539      -5.861926      -6.125439   \n",
      "25%        60.688500      -0.370635      -0.314135      -0.441536   \n",
      "50%       120.799000      -0.015991      -0.001713      -0.003010   \n",
      "75%       256.733500       0.349104       0.310181       0.431960   \n",
      "max     28701.419000       2.972741       6.151366       6.488532   \n",
      "\n",
      "                  X4             X5  ...           X882           X883  \\\n",
      "count  525887.000000  525887.000000  ...  525887.000000  525887.000000   \n",
      "mean       -0.000425      -0.000263  ...       1.959330       1.954978   \n",
      "std         0.857115       0.464695  ...       0.844732       0.598279   \n",
      "min        -6.093792      -2.855040  ...       0.433416       0.686524   \n",
      "25%        -0.521693      -0.295502  ...       1.367222       1.521202   \n",
      "50%        -0.003948      -0.002545  ...       1.831805       1.882957   \n",
      "75%         0.507830       0.287728  ...       2.369648       2.274296   \n",
      "max         6.394355       3.184776  ...       6.881902       4.745380   \n",
      "\n",
      "                X884           X885           X886           X887  \\\n",
      "count  525887.000000  525887.000000  525887.000000  525887.000000   \n",
      "mean        0.498112       0.498063       0.497997       0.497872   \n",
      "std         0.712811       0.698678       0.684946       0.666936   \n",
      "min         0.000004       0.000006       0.000009       0.000024   \n",
      "25%         0.000162       0.000193       0.000241       0.000997   \n",
      "50%         0.000634       0.001036       0.004593       0.039178   \n",
      "75%         1.473225       1.472025       1.442417       1.380184   \n",
      "max         1.584315       1.584315       1.584315       1.584315   \n",
      "\n",
      "                X888           X889           X890          label  \n",
      "count  525887.000000  525887.000000  525887.000000  525887.000000  \n",
      "mean        0.497525       0.497372       0.995394       0.036126  \n",
      "std         0.615440       0.546439       0.850509       1.009914  \n",
      "min         0.003903       0.015654       0.092913     -24.416615  \n",
      "25%         0.033156       0.066908       0.244373      -0.381585  \n",
      "50%         0.127865       0.161757       0.634448       0.016262  \n",
      "75%         1.120480       0.999344       1.701838       0.434135  \n",
      "max         1.583862       1.557910       2.769604      20.740270  \n",
      "\n",
      "[8 rows x 896 columns]\n"
     ]
    }
   ],
   "source": [
    "print(data_train.describe())"
   ]
  }
 ],
 "metadata": {
  "kernelspec": {
   "display_name": "DualTrendForecasting",
   "language": "python",
   "name": "python3"
  },
  "language_info": {
   "codemirror_mode": {
    "name": "ipython",
    "version": 3
   },
   "file_extension": ".py",
   "mimetype": "text/x-python",
   "name": "python",
   "nbconvert_exporter": "python",
   "pygments_lexer": "ipython3",
   "version": "3.10.18"
  }
 },
 "nbformat": 4,
 "nbformat_minor": 2
}
