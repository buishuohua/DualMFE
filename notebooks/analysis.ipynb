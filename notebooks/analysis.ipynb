{
 "cells": [
  {
   "cell_type": "code",
   "execution_count": 1,
   "metadata": {},
   "outputs": [],
   "source": [
    "import pandas as pd\n",
    "import numpy as np\n",
    "import matplotlib.pyplot as plt\n",
    "import os\n",
    "import sys\n",
    "import warnings\n",
    "\n",
    "warnings.filterwarnings(\"ignore\")"
   ]
  },
  {
   "cell_type": "code",
   "execution_count": 2,
   "metadata": {},
   "outputs": [],
   "source": [
    "pwd = os.getcwd()\n",
    "proj_path = os.path.dirname(pwd)\n",
    "raw_data_path = os.path.join(proj_path, \"data\", \"raw\")\n",
    "sys.path.append(raw_data_path)\n",
    "train_data_path = os.path.join(raw_data_path, \"train.parquet\")\n",
    "test_data_path = os.path.join(raw_data_path, \"test.parquet\")"
   ]
  },
  {
   "cell_type": "code",
   "execution_count": 3,
   "metadata": {},
   "outputs": [
    {
     "name": "stdout",
     "output_type": "stream",
     "text": [
      "525887\n",
      "538150\n"
     ]
    }
   ],
   "source": [
    "data_train = pd.read_parquet(train_data_path)\n",
    "data_test = pd.read_parquet(test_data_path)\n",
    "print(len(data_train))\n",
    "print(len(data_test))"
   ]
  },
  {
   "cell_type": "code",
   "execution_count": 5,
   "metadata": {},
   "outputs": [
    {
     "name": "stdout",
     "output_type": "stream",
     "text": [
      "DatetimeIndex(['2023-03-01 00:00:00', '2023-03-01 00:01:00',\n",
      "               '2023-03-01 00:02:00', '2023-03-01 00:03:00',\n",
      "               '2023-03-01 00:04:00', '2023-03-01 00:05:00',\n",
      "               '2023-03-01 00:06:00', '2023-03-01 00:07:00',\n",
      "               '2023-03-01 00:08:00', '2023-03-01 00:09:00',\n",
      "               ...\n",
      "               '2024-02-29 23:50:00', '2024-02-29 23:51:00',\n",
      "               '2024-02-29 23:52:00', '2024-02-29 23:53:00',\n",
      "               '2024-02-29 23:54:00', '2024-02-29 23:55:00',\n",
      "               '2024-02-29 23:56:00', '2024-02-29 23:57:00',\n",
      "               '2024-02-29 23:58:00', '2024-02-29 23:59:00'],\n",
      "              dtype='datetime64[ns]', name='timestamp', length=525887, freq=None)\n"
     ]
    }
   ],
   "source": [
    "print(data_train.index)"
   ]
  },
  {
   "cell_type": "code",
   "execution_count": 8,
   "metadata": {},
   "outputs": [],
   "source": [
    "train_info = [(data_train[column].max(), data_train[column].min())\n",
    "              for column in data_train.columns]\n",
    "test_info = [(data_test[column].max(), data_test[column].min())\n",
    "             for column in data_test.columns]"
   ]
  },
  {
   "cell_type": "code",
   "execution_count": 13,
   "metadata": {},
   "outputs": [
    {
     "name": "stdout",
     "output_type": "stream",
     "text": [
      "(np.float64(28701.419), np.float64(0.0))\n",
      "(np.float64(-inf), np.float64(-inf))\n",
      "(np.float64(15360.374), np.float64(0.0))\n",
      "(np.float64(-inf), np.float64(-inf))\n"
     ]
    }
   ],
   "source": [
    "max_train_info = sorted(train_info, key=lambda x: x[0], reverse=True)\n",
    "min_train_info = sorted(train_info, key=lambda x: x[1], reverse=False)\n",
    "max_test_info = sorted(test_info, key=lambda x: x[0], reverse=True)\n",
    "min_test_info = sorted(test_info, key=lambda x: x[1], reverse=False)\n",
    "\n",
    "print(max_train_info[0])\n",
    "print(min_train_info[0])\n",
    "print(max_test_info[0])\n",
    "print(min_test_info[0])"
   ]
  },
  {
   "cell_type": "code",
   "execution_count": 15,
   "metadata": {},
   "outputs": [
    {
     "name": "stdout",
     "output_type": "stream",
     "text": [
      "21\n",
      "21\n"
     ]
    }
   ],
   "source": [
    "n_inf_len_train = len([i for i in min_train_info if np.isinf(i[1])])\n",
    "n_inf_len_test = len([i for i in min_test_info if np.isinf(i[1])])\n",
    "print(n_inf_len_train)\n",
    "print(n_inf_len_test)"
   ]
  }
 ],
 "metadata": {
  "kernelspec": {
   "display_name": "DualMFE",
   "language": "python",
   "name": "python3"
  },
  "language_info": {
   "codemirror_mode": {
    "name": "ipython",
    "version": 3
   },
   "file_extension": ".py",
   "mimetype": "text/x-python",
   "name": "python",
   "nbconvert_exporter": "python",
   "pygments_lexer": "ipython3",
   "version": "3.10.18"
  }
 },
 "nbformat": 4,
 "nbformat_minor": 2
}
